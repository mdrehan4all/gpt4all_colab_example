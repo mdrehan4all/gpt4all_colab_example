{
  "nbformat": 4,
  "nbformat_minor": 0,
  "metadata": {
    "colab": {
      "provenance": [],
      "gpuType": "T4"
    },
    "kernelspec": {
      "name": "python3",
      "display_name": "Python 3"
    },
    "language_info": {
      "name": "python"
    },
    "accelerator": "GPU"
  },
  "cells": [
    {
      "cell_type": "code",
      "execution_count": 1,
      "metadata": {
        "colab": {
          "base_uri": "https://localhost:8080/"
        },
        "id": "7XjchqFLEvwE",
        "outputId": "06811109-b1d9-4483-ebec-846ceded148a"
      },
      "outputs": [
        {
          "output_type": "stream",
          "name": "stdout",
          "text": [
            "Collecting gpt4all\n",
            "  Downloading gpt4all-2.6.0-py3-none-manylinux1_x86_64.whl (3.9 MB)\n",
            "\u001b[2K     \u001b[90m━━━━━━━━━━━━━━━━━━━━━━━━━━━━━━━━━━━━━━━━\u001b[0m \u001b[32m3.9/3.9 MB\u001b[0m \u001b[31m29.9 MB/s\u001b[0m eta \u001b[36m0:00:00\u001b[0m\n",
            "\u001b[?25hRequirement already satisfied: requests in /usr/local/lib/python3.10/dist-packages (from gpt4all) (2.31.0)\n",
            "Requirement already satisfied: tqdm in /usr/local/lib/python3.10/dist-packages (from gpt4all) (4.66.4)\n",
            "Requirement already satisfied: typing-extensions>=4.3.0 in /usr/local/lib/python3.10/dist-packages (from gpt4all) (4.11.0)\n",
            "Requirement already satisfied: charset-normalizer<4,>=2 in /usr/local/lib/python3.10/dist-packages (from requests->gpt4all) (3.3.2)\n",
            "Requirement already satisfied: idna<4,>=2.5 in /usr/local/lib/python3.10/dist-packages (from requests->gpt4all) (3.7)\n",
            "Requirement already satisfied: urllib3<3,>=1.21.1 in /usr/local/lib/python3.10/dist-packages (from requests->gpt4all) (2.0.7)\n",
            "Requirement already satisfied: certifi>=2017.4.17 in /usr/local/lib/python3.10/dist-packages (from requests->gpt4all) (2024.2.2)\n",
            "Installing collected packages: gpt4all\n",
            "Successfully installed gpt4all-2.6.0\n"
          ]
        }
      ],
      "source": [
        "!pip install gpt4all"
      ]
    },
    {
      "cell_type": "code",
      "source": [
        "!apt install libvulkan1"
      ],
      "metadata": {
        "colab": {
          "base_uri": "https://localhost:8080/"
        },
        "id": "PtKTfxWZFjds",
        "outputId": "2d566e84-3b9a-4066-ab3f-a89789802bf9"
      },
      "execution_count": 3,
      "outputs": [
        {
          "output_type": "stream",
          "name": "stdout",
          "text": [
            "Reading package lists... Done\n",
            "Building dependency tree... Done\n",
            "Reading state information... Done\n",
            "libvulkan1 is already the newest version (1.3.204.1-2).\n",
            "0 upgraded, 0 newly installed, 0 to remove and 45 not upgraded.\n"
          ]
        }
      ]
    },
    {
      "cell_type": "code",
      "source": [
        "!apt install libnvidia-gl-525-server"
      ],
      "metadata": {
        "colab": {
          "base_uri": "https://localhost:8080/"
        },
        "id": "n6quY6ctFxD4",
        "outputId": "446a3d9b-7418-41f9-d0dd-02c333a4ea1d"
      },
      "execution_count": 4,
      "outputs": [
        {
          "output_type": "stream",
          "name": "stdout",
          "text": [
            "Reading package lists... Done\n",
            "Building dependency tree... Done\n",
            "Reading state information... Done\n",
            "The following additional packages will be installed:\n",
            "  libnvidia-common-535-server libnvidia-gl-535-server\n",
            "The following NEW packages will be installed:\n",
            "  libnvidia-common-535-server libnvidia-gl-525-server libnvidia-gl-535-server\n",
            "0 upgraded, 3 newly installed, 0 to remove and 45 not upgraded.\n",
            "Need to get 195 MB of archives.\n",
            "After this operation, 472 MB of additional disk space will be used.\n",
            "Get:1 http://archive.ubuntu.com/ubuntu jammy-updates/restricted amd64 libnvidia-common-535-server all 535.161.08-0ubuntu2.22.04.1 [15.7 kB]\n",
            "Get:2 http://archive.ubuntu.com/ubuntu jammy-updates/restricted amd64 libnvidia-gl-535-server amd64 535.161.08-0ubuntu2.22.04.1 [195 MB]\n",
            "Get:3 http://archive.ubuntu.com/ubuntu jammy-updates/restricted amd64 libnvidia-gl-525-server amd64 525.147.05-0ubuntu2.22.04.1 [5,994 B]\n",
            "Fetched 195 MB in 18s (10.7 MB/s)\n",
            "Selecting previously unselected package libnvidia-common-535-server.\n",
            "(Reading database ... 121956 files and directories currently installed.)\n",
            "Preparing to unpack .../libnvidia-common-535-server_535.161.08-0ubuntu2.22.04.1_all.deb ...\n",
            "Unpacking libnvidia-common-535-server (535.161.08-0ubuntu2.22.04.1) ...\n",
            "Selecting previously unselected package libnvidia-gl-535-server:amd64.\n",
            "Preparing to unpack .../libnvidia-gl-535-server_535.161.08-0ubuntu2.22.04.1_amd64.deb ...\n",
            "Unpacking libnvidia-gl-535-server:amd64 (535.161.08-0ubuntu2.22.04.1) ...\n",
            "Selecting previously unselected package libnvidia-gl-525-server:amd64.\n",
            "Preparing to unpack .../libnvidia-gl-525-server_525.147.05-0ubuntu2.22.04.1_amd64.deb ...\n",
            "Unpacking libnvidia-gl-525-server:amd64 (525.147.05-0ubuntu2.22.04.1) ...\n",
            "Setting up libnvidia-common-535-server (535.161.08-0ubuntu2.22.04.1) ...\n",
            "Setting up libnvidia-gl-535-server:amd64 (535.161.08-0ubuntu2.22.04.1) ...\n",
            "Setting up libnvidia-gl-525-server:amd64 (525.147.05-0ubuntu2.22.04.1) ...\n",
            "Processing triggers for libc-bin (2.35-0ubuntu3.4) ...\n",
            "/sbin/ldconfig.real: /usr/local/lib/libtbbbind.so.3 is not a symbolic link\n",
            "\n",
            "/sbin/ldconfig.real: /usr/local/lib/libtbbbind_2_5.so.3 is not a symbolic link\n",
            "\n",
            "/sbin/ldconfig.real: /usr/local/lib/libtbbmalloc.so.2 is not a symbolic link\n",
            "\n",
            "/sbin/ldconfig.real: /usr/local/lib/libtbbbind_2_0.so.3 is not a symbolic link\n",
            "\n",
            "/sbin/ldconfig.real: /usr/local/lib/libtbb.so.12 is not a symbolic link\n",
            "\n",
            "/sbin/ldconfig.real: /usr/local/lib/libtbbmalloc_proxy.so.2 is not a symbolic link\n",
            "\n"
          ]
        }
      ]
    },
    {
      "cell_type": "code",
      "source": [
        "from gpt4all import GPT4All"
      ],
      "metadata": {
        "id": "RWVg3ae4FyIN"
      },
      "execution_count": 5,
      "outputs": []
    },
    {
      "cell_type": "code",
      "source": [
        "model = GPT4All(\"mistral-7b-openorca.gguf2.Q4_0.gguf\", device='gpu')"
      ],
      "metadata": {
        "colab": {
          "base_uri": "https://localhost:8080/"
        },
        "id": "YcysFNyKF3Uk",
        "outputId": "819520db-25e6-4b89-905b-40ace3d07a94"
      },
      "execution_count": 6,
      "outputs": [
        {
          "output_type": "stream",
          "name": "stderr",
          "text": [
            "Downloading: 100%|██████████| 4.11G/4.11G [02:28<00:00, 27.6MiB/s]\n",
            "Verifying: 100%|██████████| 4.11G/4.11G [00:07<00:00, 532MiB/s]\n"
          ]
        }
      ]
    },
    {
      "cell_type": "code",
      "source": [
        "tokens = []\n",
        "prompt = \"write python code to call api\"\n",
        "with model.chat_session():\n",
        "    for token in model.generate(prompt, streaming=True, max_tokens=1000, temp=0.7):\n",
        "        tokens.append(token)\n",
        "        print(token, end='')"
      ],
      "metadata": {
        "colab": {
          "base_uri": "https://localhost:8080/"
        },
        "id": "wZ0JyxmvGmeL",
        "outputId": "fbecda28-6fe1-41c4-8099-14de672891ca"
      },
      "execution_count": 8,
      "outputs": [
        {
          "output_type": "stream",
          "name": "stdout",
          "text": [
            " import requests\n",
            "import json\n",
            "\n",
            "# Define the API endpoint and your API key:\n",
            "API_ENDPOINT = \"https://api-endpoint.com/path\"\n",
            "API_KEY = \"your-api-key\"\n",
            "\n",
            "Define a function called 'call_api' that takes in parameters for method, path, data (optional), headers (optional) and returns the response from API:\n",
            "def call_api(method, path, data=None, headers={}):\n",
            "    if method not in ['GET', 'POST']:\n",
            "        raise ValueError(\"Invalid HTTP method\")\n",
            "    \n",
            "    url = f\"{API_ENDPOINT}{path}\"\n",
            "    if data is None:\n",
            "        data = {}\n",
            "        \n",
            "    if headers == {}:\n",
            "        headers = {'Content-Type': 'application/json'}\n",
            "        else:\n",
            "            headers['Authorization'] = API_KEY\n",
            "            \n",
            "    response = requests.request(method, url, json=data, headers=headers)\n",
            "    return response.json()\n",
            "\n",
            "You can use this function to call the API with different methods like GET and POST by providing method, path, data (optional), and headers (optional). For example:\n",
            "\n",
            "# Calling a GET request:\n",
            "response = call_api('GET', 'path')\n",
            "print(response)\n",
            "\n",
            "Calling a POST request:\n",
            "data = {'key1': 'value1'}\n",
            "headers = {'Content-Type': 'application/json'}\n",
            "response = call_api('POST', 'path', data=data, headers=headers)\n",
            "print(response)"
          ]
        }
      ]
    }
  ]
}